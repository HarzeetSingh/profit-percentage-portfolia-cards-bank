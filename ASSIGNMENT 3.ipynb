{
 "cells": [
  {
   "cell_type": "markdown",
   "metadata": {},
   "source": [
    "# ASSIGNMENT 3"
   ]
  },
  {
   "cell_type": "markdown",
   "metadata": {},
   "source": [
    "# HARJEET SINGH\n",
    "# 18125760026"
   ]
  },
  {
   "cell_type": "code",
   "execution_count": 21,
   "metadata": {},
   "outputs": [],
   "source": [
    "import pandas as pd\n",
    "import numpy as np\n",
    "import warnings\n",
    "warnings.filterwarnings('ignore')\n",
    "import matplotlib.pyplot as plt\n",
    "import seaborn as sns\n",
    "from sklearn.cluster import KMeans\n",
    "from sklearn import metrics\n",
    "import researchpy as rp\n",
    "from scipy.spatial.distance import cdist\n",
    "import matplotlib.pyplot as plt"
   ]
  },
  {
   "cell_type": "code",
   "execution_count": 11,
   "metadata": {},
   "outputs": [
    {
     "data": {
      "text/html": [
       "<div>\n",
       "<style scoped>\n",
       "    .dataframe tbody tr th:only-of-type {\n",
       "        vertical-align: middle;\n",
       "    }\n",
       "\n",
       "    .dataframe tbody tr th {\n",
       "        vertical-align: top;\n",
       "    }\n",
       "\n",
       "    .dataframe thead th {\n",
       "        text-align: right;\n",
       "    }\n",
       "</style>\n",
       "<table border=\"1\" class=\"dataframe\">\n",
       "  <thead>\n",
       "    <tr style=\"text-align: right;\">\n",
       "      <th></th>\n",
       "      <th>Year</th>\n",
       "      <th>Month</th>\n",
       "      <th>Vijaya Bank Visa Gold Credit Card</th>\n",
       "      <th>Vijaya Bank MasterCard Global Card</th>\n",
       "      <th>Vijaya Bank VISA Classic International Card</th>\n",
       "      <th>Vijaya Bank MasterCard Classic Credit Card</th>\n",
       "    </tr>\n",
       "  </thead>\n",
       "  <tbody>\n",
       "    <tr>\n",
       "      <th>0</th>\n",
       "      <td>2016</td>\n",
       "      <td>Nov</td>\n",
       "      <td>1.64</td>\n",
       "      <td>2.87</td>\n",
       "      <td>1.77</td>\n",
       "      <td>1.90</td>\n",
       "    </tr>\n",
       "    <tr>\n",
       "      <th>1</th>\n",
       "      <td>2016</td>\n",
       "      <td>Oct</td>\n",
       "      <td>1.64</td>\n",
       "      <td>2.80</td>\n",
       "      <td>1.81</td>\n",
       "      <td>1.95</td>\n",
       "    </tr>\n",
       "    <tr>\n",
       "      <th>2</th>\n",
       "      <td>2016</td>\n",
       "      <td>Sep</td>\n",
       "      <td>1.62</td>\n",
       "      <td>2.79</td>\n",
       "      <td>1.81</td>\n",
       "      <td>1.95</td>\n",
       "    </tr>\n",
       "    <tr>\n",
       "      <th>3</th>\n",
       "      <td>2016</td>\n",
       "      <td>Aug</td>\n",
       "      <td>1.64</td>\n",
       "      <td>2.71</td>\n",
       "      <td>1.86</td>\n",
       "      <td>2.00</td>\n",
       "    </tr>\n",
       "    <tr>\n",
       "      <th>4</th>\n",
       "      <td>2016</td>\n",
       "      <td>Jul</td>\n",
       "      <td>1.66</td>\n",
       "      <td>2.74</td>\n",
       "      <td>1.91</td>\n",
       "      <td>1.94</td>\n",
       "    </tr>\n",
       "  </tbody>\n",
       "</table>\n",
       "</div>"
      ],
      "text/plain": [
       "   Year  Month  Vijaya Bank Visa Gold Credit Card  \\\n",
       "0   2016   Nov                               1.64   \n",
       "1   2016   Oct                               1.64   \n",
       "2   2016   Sep                               1.62   \n",
       "3   2016   Aug                               1.64   \n",
       "4   2016   Jul                               1.66   \n",
       "\n",
       "   Vijaya Bank MasterCard Global Card  \\\n",
       "0                                2.87   \n",
       "1                                2.80   \n",
       "2                                2.79   \n",
       "3                                2.71   \n",
       "4                                2.74   \n",
       "\n",
       "   Vijaya Bank VISA Classic International Card  \\\n",
       "0                                         1.77   \n",
       "1                                         1.81   \n",
       "2                                         1.81   \n",
       "3                                         1.86   \n",
       "4                                         1.91   \n",
       "\n",
       "   Vijaya Bank MasterCard Classic Credit Card  \n",
       "0                                        1.90  \n",
       "1                                        1.95  \n",
       "2                                        1.95  \n",
       "3                                        2.00  \n",
       "4                                        1.94  "
      ]
     },
     "execution_count": 11,
     "metadata": {},
     "output_type": "execute_result"
    }
   ],
   "source": [
    "card = pd.read_csv('D:/MANIPAL/TERM 3/BANKING ANALYTICS/ASSIGNMENT/3/Profit_percentage_portfolio_cards.csv')\n",
    "card=card.drop(['American Express Gold credit card',\n",
    "       'Indian Overseas Bank Visa International Credit card',\n",
    "       'Axis Platinum card', \"Bank of India's India Card\",\n",
    "       'Gold International Card', 'Citibank Dinners Club International card',\n",
    "       'Union Bank of India Silver Card',\n",
    "       'Syndicate Global Classic Credit Card', 'Union Bank of India Gold Card',\n",
    "       'ICICI Bank Online card', 'Syndicate Global Gold Credit Card',\n",
    "       'CorpBank Gold card', 'HSBC Platinum card', 'CorpBank Classic card','HDFC Silver credit card',\n",
    "       'HDFC Cooperate credit card'],axis=1)\n",
    "card.head()"
   ]
  },
  {
   "cell_type": "markdown",
   "metadata": {},
   "source": [
    "###### The RBI has created a table to understand the return on portfolio for different credit cards across different banks. This data is tabulated on a monthly basis from Jan 2013 to Nov 2016. The RBI is keen to understand if the different card portfolio of Vijaya Bank is showing similar performance."
   ]
  },
  {
   "cell_type": "code",
   "execution_count": 20,
   "metadata": {},
   "outputs": [
    {
     "data": {
      "text/html": [
       "<div>\n",
       "<style scoped>\n",
       "    .dataframe tbody tr th:only-of-type {\n",
       "        vertical-align: middle;\n",
       "    }\n",
       "\n",
       "    .dataframe tbody tr th {\n",
       "        vertical-align: top;\n",
       "    }\n",
       "\n",
       "    .dataframe thead th {\n",
       "        text-align: right;\n",
       "    }\n",
       "</style>\n",
       "<table border=\"1\" class=\"dataframe\">\n",
       "  <thead>\n",
       "    <tr style=\"text-align: right;\">\n",
       "      <th></th>\n",
       "      <th>Vijaya Bank Visa Gold Credit Card</th>\n",
       "      <th>Vijaya Bank MasterCard Global Card</th>\n",
       "      <th>Vijaya Bank VISA Classic International Card</th>\n",
       "      <th>Vijaya Bank MasterCard Classic Credit Card</th>\n",
       "    </tr>\n",
       "  </thead>\n",
       "  <tbody>\n",
       "    <tr>\n",
       "      <th>0</th>\n",
       "      <td>1.64</td>\n",
       "      <td>2.87</td>\n",
       "      <td>1.77</td>\n",
       "      <td>1.90</td>\n",
       "    </tr>\n",
       "    <tr>\n",
       "      <th>1</th>\n",
       "      <td>1.64</td>\n",
       "      <td>2.80</td>\n",
       "      <td>1.81</td>\n",
       "      <td>1.95</td>\n",
       "    </tr>\n",
       "    <tr>\n",
       "      <th>2</th>\n",
       "      <td>1.62</td>\n",
       "      <td>2.79</td>\n",
       "      <td>1.81</td>\n",
       "      <td>1.95</td>\n",
       "    </tr>\n",
       "    <tr>\n",
       "      <th>3</th>\n",
       "      <td>1.64</td>\n",
       "      <td>2.71</td>\n",
       "      <td>1.86</td>\n",
       "      <td>2.00</td>\n",
       "    </tr>\n",
       "    <tr>\n",
       "      <th>4</th>\n",
       "      <td>1.66</td>\n",
       "      <td>2.74</td>\n",
       "      <td>1.91</td>\n",
       "      <td>1.94</td>\n",
       "    </tr>\n",
       "  </tbody>\n",
       "</table>\n",
       "</div>"
      ],
      "text/plain": [
       "   Vijaya Bank Visa Gold Credit Card  Vijaya Bank MasterCard Global Card  \\\n",
       "0                               1.64                                2.87   \n",
       "1                               1.64                                2.80   \n",
       "2                               1.62                                2.79   \n",
       "3                               1.64                                2.71   \n",
       "4                               1.66                                2.74   \n",
       "\n",
       "   Vijaya Bank VISA Classic International Card  \\\n",
       "0                                         1.77   \n",
       "1                                         1.81   \n",
       "2                                         1.81   \n",
       "3                                         1.86   \n",
       "4                                         1.91   \n",
       "\n",
       "   Vijaya Bank MasterCard Classic Credit Card  \n",
       "0                                        1.90  \n",
       "1                                        1.95  \n",
       "2                                        1.95  \n",
       "3                                        2.00  \n",
       "4                                        1.94  "
      ]
     },
     "execution_count": 20,
     "metadata": {},
     "output_type": "execute_result"
    }
   ],
   "source": [
    "new_df=card.drop(['Year ','Month'],axis=1)\n",
    "new_df.head()"
   ]
  },
  {
   "cell_type": "code",
   "execution_count": 23,
   "metadata": {},
   "outputs": [
    {
     "name": "stdout",
     "output_type": "stream",
     "text": [
      "\n",
      "\n"
     ]
    },
    {
     "data": {
      "text/html": [
       "<div>\n",
       "<style scoped>\n",
       "    .dataframe tbody tr th:only-of-type {\n",
       "        vertical-align: middle;\n",
       "    }\n",
       "\n",
       "    .dataframe tbody tr th {\n",
       "        vertical-align: top;\n",
       "    }\n",
       "\n",
       "    .dataframe thead th {\n",
       "        text-align: right;\n",
       "    }\n",
       "</style>\n",
       "<table border=\"1\" class=\"dataframe\">\n",
       "  <thead>\n",
       "    <tr style=\"text-align: right;\">\n",
       "      <th></th>\n",
       "      <th>Variable</th>\n",
       "      <th>N</th>\n",
       "      <th>Mean</th>\n",
       "      <th>SD</th>\n",
       "      <th>SE</th>\n",
       "      <th>95% Conf.</th>\n",
       "      <th>Interval</th>\n",
       "    </tr>\n",
       "  </thead>\n",
       "  <tbody>\n",
       "    <tr>\n",
       "      <th>0</th>\n",
       "      <td>Vijaya Bank Visa Gold Credit Card</td>\n",
       "      <td>88.0</td>\n",
       "      <td>2.081477</td>\n",
       "      <td>0.226023</td>\n",
       "      <td>0.024094</td>\n",
       "      <td>2.033588</td>\n",
       "      <td>2.129367</td>\n",
       "    </tr>\n",
       "    <tr>\n",
       "      <th>1</th>\n",
       "      <td>Vijaya Bank MasterCard Global Card</td>\n",
       "      <td>88.0</td>\n",
       "      <td>3.148636</td>\n",
       "      <td>0.274830</td>\n",
       "      <td>0.029297</td>\n",
       "      <td>3.090405</td>\n",
       "      <td>3.206867</td>\n",
       "    </tr>\n",
       "    <tr>\n",
       "      <th>2</th>\n",
       "      <td>Vijaya Bank VISA Classic International Card</td>\n",
       "      <td>88.0</td>\n",
       "      <td>2.967500</td>\n",
       "      <td>0.724877</td>\n",
       "      <td>0.077272</td>\n",
       "      <td>2.813913</td>\n",
       "      <td>3.121087</td>\n",
       "    </tr>\n",
       "    <tr>\n",
       "      <th>3</th>\n",
       "      <td>Vijaya Bank MasterCard Classic Credit Card</td>\n",
       "      <td>88.0</td>\n",
       "      <td>3.987841</td>\n",
       "      <td>1.142647</td>\n",
       "      <td>0.121807</td>\n",
       "      <td>3.745737</td>\n",
       "      <td>4.229945</td>\n",
       "    </tr>\n",
       "  </tbody>\n",
       "</table>\n",
       "</div>"
      ],
      "text/plain": [
       "                                      Variable     N      Mean        SD  \\\n",
       "0            Vijaya Bank Visa Gold Credit Card  88.0  2.081477  0.226023   \n",
       "1           Vijaya Bank MasterCard Global Card  88.0  3.148636  0.274830   \n",
       "2  Vijaya Bank VISA Classic International Card  88.0  2.967500  0.724877   \n",
       "3   Vijaya Bank MasterCard Classic Credit Card  88.0  3.987841  1.142647   \n",
       "\n",
       "         SE  95% Conf.  Interval  \n",
       "0  0.024094   2.033588  2.129367  \n",
       "1  0.029297   3.090405  3.206867  \n",
       "2  0.077272   2.813913  3.121087  \n",
       "3  0.121807   3.745737  4.229945  "
      ]
     },
     "execution_count": 23,
     "metadata": {},
     "output_type": "execute_result"
    }
   ],
   "source": [
    "rp.summary_cont(new_df)"
   ]
  },
  {
   "cell_type": "code",
   "execution_count": 24,
   "metadata": {},
   "outputs": [],
   "source": [
    "from scipy import stats"
   ]
  },
  {
   "cell_type": "code",
   "execution_count": 27,
   "metadata": {},
   "outputs": [
    {
     "data": {
      "text/plain": [
       "Ttest_indResult(statistic=-28.13346388392779, pvalue=2.065430461047349e-65)"
      ]
     },
     "execution_count": 27,
     "metadata": {},
     "output_type": "execute_result"
    }
   ],
   "source": [
    "visa_gold_cc = new_df['Vijaya Bank Visa Gold Credit Card']\n",
    "master_global_card = new_df['Vijaya Bank MasterCard Global Card']\n",
    "stats.ttest_ind(a=visa_gold_cc, b= master_global_card, equal_var=False)"
   ]
  },
  {
   "cell_type": "code",
   "execution_count": 29,
   "metadata": {},
   "outputs": [
    {
     "data": {
      "text/plain": [
       "Ttest_indResult(statistic=-7.073460180489384, pvalue=5.672004619227061e-11)"
      ]
     },
     "execution_count": 29,
     "metadata": {},
     "output_type": "execute_result"
    }
   ],
   "source": [
    "visa_classic_international = new_df['Vijaya Bank VISA Classic International Card']\n",
    "master_classic_cc = new_df['Vijaya Bank MasterCard Classic Credit Card']\n",
    "stats.ttest_ind(a=visa_classic_international, b= master_classic_cc, equal_var=False)"
   ]
  },
  {
   "cell_type": "code",
   "execution_count": 33,
   "metadata": {},
   "outputs": [
    {
     "name": "stdout",
     "output_type": "stream",
     "text": [
      "Variance For Vijaya Bank Visa Gold Credit Card: \n",
      " 0.050505772210743816 \n",
      "\n",
      "Variance For Vijaya Bank MasterCard Global Card: \n",
      " 0.07467314049586778 \n",
      "\n",
      "Variance For Vijaya Bank VISA Classic International Card: \n",
      " 0.5194755681818186 \n",
      "\n",
      "Variance For Vijaya Bank MasterCard Classic Credit Card: \n",
      " 1.2908055655991737 \n",
      "\n"
     ]
    },
    {
     "data": {
      "text/plain": [
       "(None, None, None, None)"
      ]
     },
     "execution_count": 33,
     "metadata": {},
     "output_type": "execute_result"
    }
   ],
   "source": [
    "var1=np.var(visa_gold_cc)\n",
    "var2 = np.var(master_global_card)\n",
    "var3 =np.var(visa_classic_international)\n",
    "var4 = np.var(master_classic_cc)\n",
    "print('Variance For Vijaya Bank Visa Gold Credit Card: \\n %s \\n'%var1), print('Variance For Vijaya Bank MasterCard Global Card: \\n %s \\n'%var2), print('Variance For Vijaya Bank VISA Classic International Card: \\n %s \\n'%var3), print('Variance For Vijaya Bank MasterCard Classic Credit Card: \\n %s \\n'%var4)"
   ]
  },
  {
   "cell_type": "code",
   "execution_count": 36,
   "metadata": {},
   "outputs": [
    {
     "data": {
      "text/plain": [
       "1.4785070542884"
      ]
     },
     "execution_count": 36,
     "metadata": {},
     "output_type": "execute_result"
    }
   ],
   "source": [
    "credit_card= np.var(master_global_card)/ np.var(visa_gold_cc)\n",
    "credit_card"
   ]
  },
  {
   "cell_type": "code",
   "execution_count": 37,
   "metadata": {},
   "outputs": [
    {
     "data": {
      "text/plain": [
       "F_onewayResult(statistic=109.92294214117443, pvalue=4.416958142674118e-50)"
      ]
     },
     "execution_count": 37,
     "metadata": {},
     "output_type": "execute_result"
    }
   ],
   "source": [
    "import scipy.stats as stats\n",
    "\n",
    "stats.f_oneway(visa_gold_cc,master_global_card, visa_classic_international, master_classic_cc)"
   ]
  },
  {
   "cell_type": "markdown",
   "metadata": {},
   "source": [
    "# FROM ALL THE ABOVE WORD I CAN THAT THERE IS A SIGNIFICANT DIFFERENCE BETWEEN THE MEAN OF ALL VIJAYABANK CARDS."
   ]
  },
  {
   "cell_type": "code",
   "execution_count": null,
   "metadata": {},
   "outputs": [],
   "source": []
  }
 ],
 "metadata": {
  "kernelspec": {
   "display_name": "Python 3",
   "language": "python",
   "name": "python3"
  },
  "language_info": {
   "codemirror_mode": {
    "name": "ipython",
    "version": 3
   },
   "file_extension": ".py",
   "mimetype": "text/x-python",
   "name": "python",
   "nbconvert_exporter": "python",
   "pygments_lexer": "ipython3",
   "version": "3.6.4"
  }
 },
 "nbformat": 4,
 "nbformat_minor": 2
}
